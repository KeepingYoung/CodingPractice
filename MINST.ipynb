{
 "cells": [
  {
   "cell_type": "code",
   "execution_count": 1,
   "id": "5338f595-69fb-495f-b7f0-184ef16d634b",
   "metadata": {
    "tags": []
   },
   "outputs": [],
   "source": [
    "# 模型定义\n",
    "import torch\n",
    "import torch.nn as nn\n",
    "\n",
    "class MyNet(nn.Module):\n",
    "    def __init__(self):\n",
    "        super().__init__()\n",
    "        self.conv_net = nn.Sequential(\n",
    "            # 1*28*28\n",
    "            nn.Conv2d(in_channels=1, out_channels=32, kernel_size=3, stride=1, padding=1),\n",
    "            nn.ReLU(),\n",
    "            nn.MaxPool2d(2,2),\n",
    "            # 1*14*14\n",
    "            nn.Conv2d(in_channels=32, out_channels=64, kernel_size=3, stride=1, padding=1),\n",
    "            nn.ReLU(),\n",
    "            nn.MaxPool2d(2,2),\n",
    "        )\n",
    "        self.linear_net = nn.Sequential(\n",
    "            # 1*7*7\n",
    "            nn.Linear(64*7*7,1024),\n",
    "            nn.ReLU(),\n",
    "            nn.Linear(1024,512),\n",
    "            nn.ReLU(),\n",
    "            nn.Linear(512,10)\n",
    "        )\n",
    "    def forward(self,x):\n",
    "        x = self.conv_net(x)\n",
    "        x = x.view(-1, 64*7*7)\n",
    "        x = self.linear_net(x)\n",
    "        return x\n",
    "\n",
    "# 初始化网络（本次使用安装的torch版本仅使用CPU）\n",
    "model = MyNet()"
   ]
  },
  {
   "cell_type": "code",
   "execution_count": 2,
   "id": "f07acdb1-8938-4cae-a759-073b378ddd9d",
   "metadata": {
    "tags": []
   },
   "outputs": [],
   "source": [
    "# 优化器定义\n",
    "from torch.optim import Adam\n",
    "optimizer = Adam(model.parameters(),lr=1e-3)\n",
    "\n",
    "# 损失函数定义\n",
    "import torch.nn.functional as F\n",
    "loss_func = F.cross_entropy"
   ]
  },
  {
   "cell_type": "code",
   "execution_count": 3,
   "id": "9c13336f-e908-4b52-9e4c-a80efd8cda1e",
   "metadata": {
    "tags": []
   },
   "outputs": [],
   "source": [
    "# 定义训练过程\n",
    "# 注意loss_func不一定通过传参形式给到trainer, 可以直接import\n",
    "# device 是CPU或CUDA, 或者特定编号的GPU\n",
    "def trainer(batch, model, optimizer, loss_func, device):\n",
    "    # 将模型参数设为训练模式\n",
    "    model.train()\n",
    "    # 从batch中获取输入数据和标签(不一定有标签)\n",
    "    x, y = batch\n",
    "    # 将数据存入对应设备中\n",
    "    x = x.to(device)\n",
    "    y = y.to(device)\n",
    "    # 梯度清零\n",
    "    optimizer.zero_grad()\n",
    "    # 前向传播\n",
    "    y_hat = model(x)\n",
    "    # 计算loss\n",
    "    loss = loss_func(y_hat,y)\n",
    "    # 反向传播获取梯度\n",
    "    loss.backward()\n",
    "    # 更新参数\n",
    "    optimizer.step()\n",
    "\n",
    "    # 计算准确率\n",
    "    predictions = torch.argmax(y_hat, dim=1)  # 获取模型的预测结果\n",
    "    correct_predictions = (predictions == y).sum().item()  # 统计正确的预测数量\n",
    "    return loss.item() / y.shape[0], correct_predictions"
   ]
  },
  {
   "cell_type": "code",
   "execution_count": 4,
   "id": "72fc67ef-f9e5-425a-8af8-b96a6a934639",
   "metadata": {
    "tags": []
   },
   "outputs": [],
   "source": [
    "def validate(val_loader, model, loss_func, device):\n",
    "    # 将模型参数设为评估模式\n",
    "    model.eval()\n",
    "    total_loss = 0.0\n",
    "    correct_predictions = 0\n",
    "    total_samples = 0\n",
    "\n",
    "    with torch.no_grad():  # 禁用梯度计算\n",
    "        for batch in val_loader:\n",
    "            x, y = batch\n",
    "            x = x.to(device)\n",
    "            y = y.to(device)\n",
    "\n",
    "            # 前向传播\n",
    "            y_hat = model(x)\n",
    "            # 计算loss\n",
    "            loss = loss_func(y_hat, y)\n",
    "\n",
    "            total_loss += loss.item() / y.size(0)\n",
    "\n",
    "            # 计算准确率\n",
    "            predictions = torch.argmax(y_hat, dim=1)\n",
    "            correct_predictions += (predictions == y).sum().item()\n",
    "            total_samples += y.size(0)\n",
    "\n",
    "    # 计算平均损失和准确率\n",
    "    average_loss = total_loss / len(val_loader)\n",
    "    accuracy = correct_predictions / total_samples\n",
    "\n",
    "    print(f\"Validation Loss: {average_loss:.4f} | Accuracy: {accuracy * 100:.2f}%\")\n",
    "\n",
    "    return average_loss, accuracy"
   ]
  },
  {
   "cell_type": "code",
   "execution_count": 5,
   "id": "ec54b0c4-447d-491e-9a6b-9924ffa0c653",
   "metadata": {
    "tags": []
   },
   "outputs": [],
   "source": [
    "from torch.utils.data import Dataset\n",
    "from torchvision.datasets import MNIST\n",
    "import torchvision.transforms as T\n",
    "\n",
    "# 定义数据集的转换\n",
    "my_transform = T.Compose([\n",
    "    T.ToTensor(),  # 将图像转换为张量\n",
    "    T.Normalize((0.5,), (0.5,))  # 标准化张量，使其范围在[-1, 1]之间\n",
    "])\n",
    "\n",
    "# 初始化训练集和测试集\n",
    "train_dataset = MNIST(root='./data', train=True, transform=my_transform, download=False)\n",
    "test_dataset = MNIST(root='./data', train=False, transform=my_transform, download=False)"
   ]
  },
  {
   "cell_type": "code",
   "execution_count": 6,
   "id": "56532ef2-b42c-4fd2-a858-aeede4ac1b0c",
   "metadata": {
    "tags": []
   },
   "outputs": [],
   "source": [
    "from torch.utils.data import DataLoader\n",
    "\n",
    "# 定义 DataLoader 来加载数据\n",
    "batch_size = 512\n",
    "train_loader = DataLoader(dataset=train_dataset, batch_size=batch_size, shuffle=True, num_workers=8, pin_memory=True)\n",
    "test_loader = DataLoader(dataset=test_dataset, batch_size=batch_size, shuffle=False, num_workers=8, pin_memory=True)"
   ]
  },
  {
   "cell_type": "code",
   "execution_count": 7,
   "id": "3f57ec1e-43d4-4de3-a35d-ffbc375da95b",
   "metadata": {
    "tags": []
   },
   "outputs": [
    {
     "name": "stdout",
     "output_type": "stream",
     "text": [
      "Epoch: 0 Training Loss: 0.0007 | Accuracy: 89.03%\n",
      "Epoch: 1 Training Loss: 0.0001 | Accuracy: 98.19%\n",
      "Validation Loss: 0.0001 | Accuracy: 98.51%\n",
      "Epoch: 2 Training Loss: 0.0001 | Accuracy: 98.76%\n",
      "Epoch: 3 Training Loss: 0.0001 | Accuracy: 99.11%\n",
      "Validation Loss: 0.0001 | Accuracy: 98.83%\n",
      "Epoch: 4 Training Loss: 0.0000 | Accuracy: 99.25%\n",
      "Epoch: 5 Training Loss: 0.0000 | Accuracy: 99.50%\n",
      "Validation Loss: 0.0001 | Accuracy: 98.94%\n",
      "Epoch: 6 Training Loss: 0.0000 | Accuracy: 99.46%\n",
      "Epoch: 7 Training Loss: 0.0000 | Accuracy: 99.63%\n",
      "Validation Loss: 0.0001 | Accuracy: 99.10%\n",
      "Epoch: 8 Training Loss: 0.0000 | Accuracy: 99.72%\n",
      "Epoch: 9 Training Loss: 0.0000 | Accuracy: 99.76%\n",
      "Validation Loss: 0.0001 | Accuracy: 99.11%\n"
     ]
    }
   ],
   "source": [
    "device = \"cpu\"\n",
    "total_ep = 10\n",
    "for ep in range(total_ep):\n",
    "    total_loss = 0.0\n",
    "    total_correct = 0\n",
    "    total_samples = 0\n",
    "    for batch in train_loader:\n",
    "        loss, correct_predictions = trainer(batch, model, optimizer, loss_func, device)\n",
    "        total_loss += loss\n",
    "        total_correct += correct_predictions\n",
    "        total_samples += batch[1].shape[0]\n",
    "    average_loss = total_loss / len(train_loader)\n",
    "    accuracy = total_correct / total_samples\n",
    "    print(f\"Epoch: {ep} Training Loss: {average_loss:.4f} | Accuracy: {accuracy * 100:.2f}%\")\n",
    "        \n",
    "    if (ep+1) % 2 == 0:\n",
    "        validate(test_loader, model, loss_func, device)"
   ]
  }
 ],
 "metadata": {
  "kernelspec": {
   "display_name": "mytorch",
   "language": "python",
   "name": "mytorch"
  },
  "language_info": {
   "codemirror_mode": {
    "name": "ipython",
    "version": 3
   },
   "file_extension": ".py",
   "mimetype": "text/x-python",
   "name": "python",
   "nbconvert_exporter": "python",
   "pygments_lexer": "ipython3",
   "version": "3.6.13"
  }
 },
 "nbformat": 4,
 "nbformat_minor": 5
}
